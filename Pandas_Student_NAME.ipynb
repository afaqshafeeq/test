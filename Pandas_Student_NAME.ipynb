{
 "cells": [
  {
   "cell_type": "markdown",
   "metadata": {},
   "source": [
    "# Test 2: Pandas\n",
    "\n",
    " - open book\n",
    " - 100 points\n",
    " - due by today's midnight\n",
    "\n"
   ]
  },
  {
   "cell_type": "markdown",
   "metadata": {},
   "source": [
    "### Election Dataset:\n",
    "   - Election dataset contains donation data for 2012 Presidential Election. \n",
    "      \n",
    "      \n",
    "   - The dataset can be downloaded from our book's github.\n",
    "   \n",
    "   https://github.com/wesm/pydata-book/blob/2nd-edition/datasets/fec/P00000001-ALL.csv\n",
    "     \n",
    "     \n",
    "   - Originally Data is also available in Federal Election Commission webpage. \n",
    "     \n",
    "     \n",
    "   - For your convenience, it is also available from Blackboard, named <span class=\"mark\">\"Election.csv</span>\".\n",
    "    \n",
    "**Now, let's do some analyses on this dataset.**\n"
   ]
  },
  {
   "cell_type": "code",
   "execution_count": 2,
   "metadata": {
    "ExecuteTime": {
     "end_time": "2021-12-06T20:00:19.594680Z",
     "start_time": "2021-12-06T20:00:18.901024Z"
    }
   },
   "outputs": [],
   "source": [
    "# import the libraries\n",
    "import pandas as pd\n",
    "import matplotlib.pyplot as plt\n",
    "\n",
    "# you can add more libraries if needed"
   ]
  },
  {
   "cell_type": "markdown",
   "metadata": {},
   "source": [
    "---\n",
    "## (0) Load and view DATA <span class=\"mark\">(15%)</span>\n",
    "\n",
    "#### First, please download the data file \"Election.csv\" and save it to your local disck\n",
    "\n"
   ]
  },
  {
   "cell_type": "code",
   "execution_count": 5,
   "metadata": {
    "ExecuteTime": {
     "end_time": "2021-12-06T20:03:44.269281Z",
     "start_time": "2021-12-06T20:03:44.265293Z"
    }
   },
   "outputs": [
    {
     "name": "stderr",
     "output_type": "stream",
     "text": [
      "/Users/sawsan/opt/anaconda3/lib/python3.9/site-packages/IPython/core/interactiveshell.py:3444: DtypeWarning: Columns (6) have mixed types.Specify dtype option on import or set low_memory=False.\n",
      "  exec(code_obj, self.user_global_ns, self.user_ns)\n"
     ]
    },
    {
     "data": {
      "text/html": [
       "<div>\n",
       "<style scoped>\n",
       "    .dataframe tbody tr th:only-of-type {\n",
       "        vertical-align: middle;\n",
       "    }\n",
       "\n",
       "    .dataframe tbody tr th {\n",
       "        vertical-align: top;\n",
       "    }\n",
       "\n",
       "    .dataframe thead th {\n",
       "        text-align: right;\n",
       "    }\n",
       "</style>\n",
       "<table border=\"1\" class=\"dataframe\">\n",
       "  <thead>\n",
       "    <tr style=\"text-align: right;\">\n",
       "      <th></th>\n",
       "      <th>cmte_id</th>\n",
       "      <th>cand_id</th>\n",
       "      <th>cand_nm</th>\n",
       "      <th>contbr_nm</th>\n",
       "      <th>contbr_city</th>\n",
       "      <th>contbr_st</th>\n",
       "      <th>contbr_zip</th>\n",
       "      <th>contbr_employer</th>\n",
       "      <th>contbr_occupation</th>\n",
       "      <th>contb_receipt_amt</th>\n",
       "      <th>contb_receipt_dt</th>\n",
       "      <th>receipt_desc</th>\n",
       "      <th>memo_cd</th>\n",
       "      <th>memo_text</th>\n",
       "      <th>form_tp</th>\n",
       "      <th>file_num</th>\n",
       "    </tr>\n",
       "  </thead>\n",
       "  <tbody>\n",
       "    <tr>\n",
       "      <th>0</th>\n",
       "      <td>C00410118</td>\n",
       "      <td>P20002978</td>\n",
       "      <td>Bachmann, Michelle</td>\n",
       "      <td>HARVEY, WILLIAM</td>\n",
       "      <td>MOBILE</td>\n",
       "      <td>AL</td>\n",
       "      <td>366010290.0</td>\n",
       "      <td>RETIRED</td>\n",
       "      <td>RETIRED</td>\n",
       "      <td>250.0</td>\n",
       "      <td>20-Jun-11</td>\n",
       "      <td>NaN</td>\n",
       "      <td>NaN</td>\n",
       "      <td>NaN</td>\n",
       "      <td>SA17A</td>\n",
       "      <td>736166</td>\n",
       "    </tr>\n",
       "    <tr>\n",
       "      <th>1</th>\n",
       "      <td>C00410118</td>\n",
       "      <td>P20002978</td>\n",
       "      <td>Bachmann, Michelle</td>\n",
       "      <td>HARVEY, WILLIAM</td>\n",
       "      <td>MOBILE</td>\n",
       "      <td>AL</td>\n",
       "      <td>366010290.0</td>\n",
       "      <td>RETIRED</td>\n",
       "      <td>RETIRED</td>\n",
       "      <td>50.0</td>\n",
       "      <td>23-Jun-11</td>\n",
       "      <td>NaN</td>\n",
       "      <td>NaN</td>\n",
       "      <td>NaN</td>\n",
       "      <td>SA17A</td>\n",
       "      <td>736166</td>\n",
       "    </tr>\n",
       "    <tr>\n",
       "      <th>2</th>\n",
       "      <td>C00410118</td>\n",
       "      <td>P20002978</td>\n",
       "      <td>Bachmann, Michelle</td>\n",
       "      <td>SMITH, LANIER</td>\n",
       "      <td>LANETT</td>\n",
       "      <td>AL</td>\n",
       "      <td>368633403.0</td>\n",
       "      <td>INFORMATION REQUESTED</td>\n",
       "      <td>INFORMATION REQUESTED</td>\n",
       "      <td>250.0</td>\n",
       "      <td>5-Jul-11</td>\n",
       "      <td>NaN</td>\n",
       "      <td>NaN</td>\n",
       "      <td>NaN</td>\n",
       "      <td>SA17A</td>\n",
       "      <td>749073</td>\n",
       "    </tr>\n",
       "    <tr>\n",
       "      <th>3</th>\n",
       "      <td>C00410118</td>\n",
       "      <td>P20002978</td>\n",
       "      <td>Bachmann, Michelle</td>\n",
       "      <td>BLEVINS, DARONDA</td>\n",
       "      <td>PIGGOTT</td>\n",
       "      <td>AR</td>\n",
       "      <td>724548253.0</td>\n",
       "      <td>NONE</td>\n",
       "      <td>RETIRED</td>\n",
       "      <td>250.0</td>\n",
       "      <td>1-Aug-11</td>\n",
       "      <td>NaN</td>\n",
       "      <td>NaN</td>\n",
       "      <td>NaN</td>\n",
       "      <td>SA17A</td>\n",
       "      <td>749073</td>\n",
       "    </tr>\n",
       "    <tr>\n",
       "      <th>4</th>\n",
       "      <td>C00410118</td>\n",
       "      <td>P20002978</td>\n",
       "      <td>Bachmann, Michelle</td>\n",
       "      <td>WARDENBURG, HAROLD</td>\n",
       "      <td>HOT SPRINGS NATION</td>\n",
       "      <td>AR</td>\n",
       "      <td>719016467.0</td>\n",
       "      <td>NONE</td>\n",
       "      <td>RETIRED</td>\n",
       "      <td>300.0</td>\n",
       "      <td>20-Jun-11</td>\n",
       "      <td>NaN</td>\n",
       "      <td>NaN</td>\n",
       "      <td>NaN</td>\n",
       "      <td>SA17A</td>\n",
       "      <td>736166</td>\n",
       "    </tr>\n",
       "  </tbody>\n",
       "</table>\n",
       "</div>"
      ],
      "text/plain": [
       "     cmte_id    cand_id             cand_nm           contbr_nm  \\\n",
       "0  C00410118  P20002978  Bachmann, Michelle     HARVEY, WILLIAM   \n",
       "1  C00410118  P20002978  Bachmann, Michelle     HARVEY, WILLIAM   \n",
       "2  C00410118  P20002978  Bachmann, Michelle       SMITH, LANIER   \n",
       "3  C00410118  P20002978  Bachmann, Michelle    BLEVINS, DARONDA   \n",
       "4  C00410118  P20002978  Bachmann, Michelle  WARDENBURG, HAROLD   \n",
       "\n",
       "          contbr_city contbr_st   contbr_zip        contbr_employer  \\\n",
       "0              MOBILE        AL  366010290.0                RETIRED   \n",
       "1              MOBILE        AL  366010290.0                RETIRED   \n",
       "2              LANETT        AL  368633403.0  INFORMATION REQUESTED   \n",
       "3             PIGGOTT        AR  724548253.0                   NONE   \n",
       "4  HOT SPRINGS NATION        AR  719016467.0                   NONE   \n",
       "\n",
       "       contbr_occupation  contb_receipt_amt contb_receipt_dt receipt_desc  \\\n",
       "0                RETIRED              250.0        20-Jun-11          NaN   \n",
       "1                RETIRED               50.0        23-Jun-11          NaN   \n",
       "2  INFORMATION REQUESTED              250.0         5-Jul-11          NaN   \n",
       "3                RETIRED              250.0         1-Aug-11          NaN   \n",
       "4                RETIRED              300.0        20-Jun-11          NaN   \n",
       "\n",
       "  memo_cd memo_text form_tp  file_num  \n",
       "0     NaN       NaN   SA17A    736166  \n",
       "1     NaN       NaN   SA17A    736166  \n",
       "2     NaN       NaN   SA17A    749073  \n",
       "3     NaN       NaN   SA17A    749073  \n",
       "4     NaN       NaN   SA17A    736166  "
      ]
     },
     "execution_count": 5,
     "metadata": {},
     "output_type": "execute_result"
    }
   ],
   "source": [
    "# Read in the \"Election.csv\" file and assign the dataset to a dataframe named df\n",
    "# You will get warning about the Columns (6). We will take care of it later\n",
    "\n",
    "\n",
    "## <Your code>  \n",
    "\n",
    "df = pd.read_csv('Election.csv')\n",
    "df.head()"
   ]
  },
  {
   "cell_type": "code",
   "execution_count": 6,
   "metadata": {
    "ExecuteTime": {
     "end_time": "2021-12-06T20:03:49.951026Z",
     "start_time": "2021-12-06T20:03:49.934074Z"
    }
   },
   "outputs": [
    {
     "data": {
      "text/plain": [
       "(1001731, 16)"
      ]
     },
     "execution_count": 6,
     "metadata": {},
     "output_type": "execute_result"
    }
   ],
   "source": [
    "# Check dataframe df shape: (1001731, 16)\n",
    "df.shape\n",
    "\n"
   ]
  },
  {
   "cell_type": "code",
   "execution_count": 7,
   "metadata": {
    "ExecuteTime": {
     "end_time": "2021-12-06T20:03:55.146898Z",
     "start_time": "2021-12-06T20:03:55.142909Z"
    }
   },
   "outputs": [
    {
     "data": {
      "text/html": [
       "<div>\n",
       "<style scoped>\n",
       "    .dataframe tbody tr th:only-of-type {\n",
       "        vertical-align: middle;\n",
       "    }\n",
       "\n",
       "    .dataframe tbody tr th {\n",
       "        vertical-align: top;\n",
       "    }\n",
       "\n",
       "    .dataframe thead th {\n",
       "        text-align: right;\n",
       "    }\n",
       "</style>\n",
       "<table border=\"1\" class=\"dataframe\">\n",
       "  <thead>\n",
       "    <tr style=\"text-align: right;\">\n",
       "      <th></th>\n",
       "      <th>cmte_id</th>\n",
       "      <th>cand_id</th>\n",
       "      <th>cand_nm</th>\n",
       "      <th>contbr_nm</th>\n",
       "      <th>contbr_city</th>\n",
       "      <th>contbr_st</th>\n",
       "      <th>contbr_zip</th>\n",
       "      <th>contbr_employer</th>\n",
       "      <th>contbr_occupation</th>\n",
       "      <th>contb_receipt_amt</th>\n",
       "      <th>contb_receipt_dt</th>\n",
       "      <th>receipt_desc</th>\n",
       "      <th>memo_cd</th>\n",
       "      <th>memo_text</th>\n",
       "      <th>form_tp</th>\n",
       "      <th>file_num</th>\n",
       "    </tr>\n",
       "  </thead>\n",
       "  <tbody>\n",
       "    <tr>\n",
       "      <th>0</th>\n",
       "      <td>C00410118</td>\n",
       "      <td>P20002978</td>\n",
       "      <td>Bachmann, Michelle</td>\n",
       "      <td>HARVEY, WILLIAM</td>\n",
       "      <td>MOBILE</td>\n",
       "      <td>AL</td>\n",
       "      <td>366010290.0</td>\n",
       "      <td>RETIRED</td>\n",
       "      <td>RETIRED</td>\n",
       "      <td>250.0</td>\n",
       "      <td>20-Jun-11</td>\n",
       "      <td>NaN</td>\n",
       "      <td>NaN</td>\n",
       "      <td>NaN</td>\n",
       "      <td>SA17A</td>\n",
       "      <td>736166</td>\n",
       "    </tr>\n",
       "    <tr>\n",
       "      <th>1</th>\n",
       "      <td>C00410118</td>\n",
       "      <td>P20002978</td>\n",
       "      <td>Bachmann, Michelle</td>\n",
       "      <td>HARVEY, WILLIAM</td>\n",
       "      <td>MOBILE</td>\n",
       "      <td>AL</td>\n",
       "      <td>366010290.0</td>\n",
       "      <td>RETIRED</td>\n",
       "      <td>RETIRED</td>\n",
       "      <td>50.0</td>\n",
       "      <td>23-Jun-11</td>\n",
       "      <td>NaN</td>\n",
       "      <td>NaN</td>\n",
       "      <td>NaN</td>\n",
       "      <td>SA17A</td>\n",
       "      <td>736166</td>\n",
       "    </tr>\n",
       "    <tr>\n",
       "      <th>2</th>\n",
       "      <td>C00410118</td>\n",
       "      <td>P20002978</td>\n",
       "      <td>Bachmann, Michelle</td>\n",
       "      <td>SMITH, LANIER</td>\n",
       "      <td>LANETT</td>\n",
       "      <td>AL</td>\n",
       "      <td>368633403.0</td>\n",
       "      <td>INFORMATION REQUESTED</td>\n",
       "      <td>INFORMATION REQUESTED</td>\n",
       "      <td>250.0</td>\n",
       "      <td>5-Jul-11</td>\n",
       "      <td>NaN</td>\n",
       "      <td>NaN</td>\n",
       "      <td>NaN</td>\n",
       "      <td>SA17A</td>\n",
       "      <td>749073</td>\n",
       "    </tr>\n",
       "    <tr>\n",
       "      <th>3</th>\n",
       "      <td>C00410118</td>\n",
       "      <td>P20002978</td>\n",
       "      <td>Bachmann, Michelle</td>\n",
       "      <td>BLEVINS, DARONDA</td>\n",
       "      <td>PIGGOTT</td>\n",
       "      <td>AR</td>\n",
       "      <td>724548253.0</td>\n",
       "      <td>NONE</td>\n",
       "      <td>RETIRED</td>\n",
       "      <td>250.0</td>\n",
       "      <td>1-Aug-11</td>\n",
       "      <td>NaN</td>\n",
       "      <td>NaN</td>\n",
       "      <td>NaN</td>\n",
       "      <td>SA17A</td>\n",
       "      <td>749073</td>\n",
       "    </tr>\n",
       "    <tr>\n",
       "      <th>4</th>\n",
       "      <td>C00410118</td>\n",
       "      <td>P20002978</td>\n",
       "      <td>Bachmann, Michelle</td>\n",
       "      <td>WARDENBURG, HAROLD</td>\n",
       "      <td>HOT SPRINGS NATION</td>\n",
       "      <td>AR</td>\n",
       "      <td>719016467.0</td>\n",
       "      <td>NONE</td>\n",
       "      <td>RETIRED</td>\n",
       "      <td>300.0</td>\n",
       "      <td>20-Jun-11</td>\n",
       "      <td>NaN</td>\n",
       "      <td>NaN</td>\n",
       "      <td>NaN</td>\n",
       "      <td>SA17A</td>\n",
       "      <td>736166</td>\n",
       "    </tr>\n",
       "  </tbody>\n",
       "</table>\n",
       "</div>"
      ],
      "text/plain": [
       "     cmte_id    cand_id             cand_nm           contbr_nm  \\\n",
       "0  C00410118  P20002978  Bachmann, Michelle     HARVEY, WILLIAM   \n",
       "1  C00410118  P20002978  Bachmann, Michelle     HARVEY, WILLIAM   \n",
       "2  C00410118  P20002978  Bachmann, Michelle       SMITH, LANIER   \n",
       "3  C00410118  P20002978  Bachmann, Michelle    BLEVINS, DARONDA   \n",
       "4  C00410118  P20002978  Bachmann, Michelle  WARDENBURG, HAROLD   \n",
       "\n",
       "          contbr_city contbr_st   contbr_zip        contbr_employer  \\\n",
       "0              MOBILE        AL  366010290.0                RETIRED   \n",
       "1              MOBILE        AL  366010290.0                RETIRED   \n",
       "2              LANETT        AL  368633403.0  INFORMATION REQUESTED   \n",
       "3             PIGGOTT        AR  724548253.0                   NONE   \n",
       "4  HOT SPRINGS NATION        AR  719016467.0                   NONE   \n",
       "\n",
       "       contbr_occupation  contb_receipt_amt contb_receipt_dt receipt_desc  \\\n",
       "0                RETIRED              250.0        20-Jun-11          NaN   \n",
       "1                RETIRED               50.0        23-Jun-11          NaN   \n",
       "2  INFORMATION REQUESTED              250.0         5-Jul-11          NaN   \n",
       "3                RETIRED              250.0         1-Aug-11          NaN   \n",
       "4                RETIRED              300.0        20-Jun-11          NaN   \n",
       "\n",
       "  memo_cd memo_text form_tp  file_num  \n",
       "0     NaN       NaN   SA17A    736166  \n",
       "1     NaN       NaN   SA17A    736166  \n",
       "2     NaN       NaN   SA17A    749073  \n",
       "3     NaN       NaN   SA17A    749073  \n",
       "4     NaN       NaN   SA17A    736166  "
      ]
     },
     "execution_count": 7,
     "metadata": {},
     "output_type": "execute_result"
    }
   ],
   "source": [
    "# Show first 5 rows of the df\n",
    "df.head(5)\n"
   ]
  },
  {
   "cell_type": "code",
   "execution_count": 8,
   "metadata": {
    "ExecuteTime": {
     "end_time": "2021-12-06T20:03:59.610171Z",
     "start_time": "2021-12-06T20:03:59.594212Z"
    }
   },
   "outputs": [
    {
     "data": {
      "text/plain": [
       "Index(['cmte_id', 'cand_id', 'cand_nm', 'contbr_nm', 'contbr_city',\n",
       "       'contbr_st', 'contbr_zip', 'contbr_employer', 'contbr_occupation',\n",
       "       'contb_receipt_amt', 'contb_receipt_dt', 'receipt_desc', 'memo_cd',\n",
       "       'memo_text', 'form_tp', 'file_num'],\n",
       "      dtype='object')"
      ]
     },
     "execution_count": 8,
     "metadata": {},
     "output_type": "execute_result"
    }
   ],
   "source": [
    "# List all col names of the df\n",
    "\n",
    "df.columns\n"
   ]
  },
  {
   "cell_type": "code",
   "execution_count": 15,
   "metadata": {
    "ExecuteTime": {
     "end_time": "2021-12-06T20:04:02.814786Z",
     "start_time": "2021-12-06T20:04:02.809801Z"
    }
   },
   "outputs": [],
   "source": [
    "# what are the last 10 df indices? (do not show more than 10 indices) \n",
    "\n"
   ]
  },
  {
   "cell_type": "code",
   "execution_count": 17,
   "metadata": {
    "ExecuteTime": {
     "end_time": "2021-12-06T20:04:06.492472Z",
     "start_time": "2021-12-06T20:04:06.485490Z"
    }
   },
   "outputs": [
    {
     "name": "stdout",
     "output_type": "stream",
     "text": [
      "<class 'pandas.core.frame.DataFrame'>\n",
      "RangeIndex: 9 entries, 1 to 9\n",
      "Data columns (total 16 columns):\n",
      " #   Column             Non-Null Count  Dtype  \n",
      "---  ------             --------------  -----  \n",
      " 0   cmte_id            9 non-null      object \n",
      " 1   cand_id            9 non-null      object \n",
      " 2   cand_nm            9 non-null      object \n",
      " 3   contbr_nm          9 non-null      object \n",
      " 4   contbr_city        9 non-null      object \n",
      " 5   contbr_st          9 non-null      object \n",
      " 6   contbr_zip         9 non-null      object \n",
      " 7   contbr_employer    9 non-null      object \n",
      " 8   contbr_occupation  9 non-null      object \n",
      " 9   contb_receipt_amt  9 non-null      float64\n",
      " 10  contb_receipt_dt   9 non-null      object \n",
      " 11  receipt_desc       0 non-null      object \n",
      " 12  memo_cd            0 non-null      object \n",
      " 13  memo_text          0 non-null      object \n",
      " 14  form_tp            9 non-null      object \n",
      " 15  file_num           9 non-null      int64  \n",
      "dtypes: float64(1), int64(1), object(14)\n",
      "memory usage: 1.3+ KB\n"
     ]
    }
   ],
   "source": [
    "#Check df info \n",
    "\n",
    "\n",
    "df.info()"
   ]
  },
  {
   "cell_type": "code",
   "execution_count": 19,
   "metadata": {
    "ExecuteTime": {
     "end_time": "2021-12-06T20:04:12.667379Z",
     "start_time": "2021-12-06T20:04:12.661402Z"
    }
   },
   "outputs": [
    {
     "data": {
      "text/html": [
       "<div>\n",
       "<style scoped>\n",
       "    .dataframe tbody tr th:only-of-type {\n",
       "        vertical-align: middle;\n",
       "    }\n",
       "\n",
       "    .dataframe tbody tr th {\n",
       "        vertical-align: top;\n",
       "    }\n",
       "\n",
       "    .dataframe thead th {\n",
       "        text-align: right;\n",
       "    }\n",
       "</style>\n",
       "<table border=\"1\" class=\"dataframe\">\n",
       "  <thead>\n",
       "    <tr style=\"text-align: right;\">\n",
       "      <th></th>\n",
       "      <th>contb_receipt_amt</th>\n",
       "      <th>file_num</th>\n",
       "    </tr>\n",
       "  </thead>\n",
       "  <tbody>\n",
       "    <tr>\n",
       "      <th>count</th>\n",
       "      <td>9.000000</td>\n",
       "      <td>9.000000</td>\n",
       "    </tr>\n",
       "    <tr>\n",
       "      <th>mean</th>\n",
       "      <td>261.111111</td>\n",
       "      <td>740468.333333</td>\n",
       "    </tr>\n",
       "    <tr>\n",
       "      <th>std</th>\n",
       "      <td>113.956619</td>\n",
       "      <td>6453.500000</td>\n",
       "    </tr>\n",
       "    <tr>\n",
       "      <th>min</th>\n",
       "      <td>50.000000</td>\n",
       "      <td>736166.000000</td>\n",
       "    </tr>\n",
       "    <tr>\n",
       "      <th>25%</th>\n",
       "      <td>250.000000</td>\n",
       "      <td>736166.000000</td>\n",
       "    </tr>\n",
       "    <tr>\n",
       "      <th>50%</th>\n",
       "      <td>250.000000</td>\n",
       "      <td>736166.000000</td>\n",
       "    </tr>\n",
       "    <tr>\n",
       "      <th>75%</th>\n",
       "      <td>250.000000</td>\n",
       "      <td>749073.000000</td>\n",
       "    </tr>\n",
       "    <tr>\n",
       "      <th>max</th>\n",
       "      <td>500.000000</td>\n",
       "      <td>749073.000000</td>\n",
       "    </tr>\n",
       "  </tbody>\n",
       "</table>\n",
       "</div>"
      ],
      "text/plain": [
       "       contb_receipt_amt       file_num\n",
       "count           9.000000       9.000000\n",
       "mean          261.111111  740468.333333\n",
       "std           113.956619    6453.500000\n",
       "min            50.000000  736166.000000\n",
       "25%           250.000000  736166.000000\n",
       "50%           250.000000  736166.000000\n",
       "75%           250.000000  749073.000000\n",
       "max           500.000000  749073.000000"
      ]
     },
     "execution_count": 19,
     "metadata": {},
     "output_type": "execute_result"
    }
   ],
   "source": [
    "# Describe df\n",
    "\n",
    "df.describe()\n"
   ]
  },
  {
   "cell_type": "markdown",
   "metadata": {},
   "source": [
    "---\n"
   ]
  },
  {
   "cell_type": "markdown",
   "metadata": {},
   "source": [
    "## (1) DATA  PREPARATION <span class=\"mark\">(10%)</span>\n",
    " - drop some irrelevant columns\n",
    " - check missing values again\n",
    " \n"
   ]
  },
  {
   "cell_type": "code",
   "execution_count": 45,
   "metadata": {
    "ExecuteTime": {
     "end_time": "2021-12-06T20:04:42.934861Z",
     "start_time": "2021-12-06T20:04:42.921898Z"
    }
   },
   "outputs": [],
   "source": [
    "# (1) create df1 by droping df's first two and the last 6 columns\n",
    "\n",
    "\n",
    "# or df1 = keep only 8 columns: from \"cand_nm\" to \"contb_receipt_amt\" \n",
    "\n",
    "\n",
    "\n",
    "# chekc the df1's shape again \n"
   ]
  },
  {
   "cell_type": "code",
   "execution_count": 46,
   "metadata": {
    "ExecuteTime": {
     "end_time": "2021-12-06T20:04:46.734842Z",
     "start_time": "2021-12-06T20:04:46.729856Z"
    }
   },
   "outputs": [],
   "source": [
    "#display df1.head()\n",
    "\n"
   ]
  },
  {
   "cell_type": "code",
   "execution_count": 47,
   "metadata": {
    "ExecuteTime": {
     "end_time": "2021-12-06T20:04:56.693063Z",
     "start_time": "2021-12-06T20:04:56.689099Z"
    }
   },
   "outputs": [],
   "source": [
    "# (2.1)  check and dispay the number of missing values for each column in df1\n",
    "\n",
    "\n",
    "\n",
    "# (2.2) what is the total number of missing data (all missing data cells)\n",
    "\n",
    "\n"
   ]
  },
  {
   "cell_type": "code",
   "execution_count": 48,
   "metadata": {
    "ExecuteTime": {
     "end_time": "2021-12-06T20:05:07.510497Z",
     "start_time": "2021-12-06T20:05:07.501492Z"
    }
   },
   "outputs": [],
   "source": [
    "# (3) find out how many rows which have one or more missing value(s) in df1\n",
    "\n",
    "\n",
    "\n"
   ]
  },
  {
   "cell_type": "markdown",
   "metadata": {},
   "source": [
    "---"
   ]
  },
  {
   "cell_type": "markdown",
   "metadata": {},
   "source": [
    "##  (2) For df1: STATISTICS and PLOTING <span class=\"mark\">(20%)</span>\n",
    " #### <span class=\"mark\">For now, we like to keep the rows with missing values.</span>  \n",
    "\n"
   ]
  },
  {
   "cell_type": "code",
   "execution_count": 49,
   "metadata": {
    "ExecuteTime": {
     "end_time": "2021-12-06T20:05:12.620746Z",
     "start_time": "2021-12-06T20:05:12.613791Z"
    }
   },
   "outputs": [],
   "source": [
    "# For column \"contb_receipt_amt\" in df1:   find 'max', 'min', 'mean', 'std'  and print them out\n",
    "# use aggregation or agg \n",
    "\n",
    "\n"
   ]
  },
  {
   "cell_type": "code",
   "execution_count": 50,
   "metadata": {
    "ExecuteTime": {
     "end_time": "2021-12-06T20:05:37.119969Z",
     "start_time": "2021-12-06T20:05:37.113972Z"
    }
   },
   "outputs": [],
   "source": [
    "# For the \"contb_receipt_amt\" column in df1 again: \n",
    "\n",
    "# (1) there are some negative data, assuming they are refund (I guess)\n",
    "# print out how many\n",
    "\n",
    "\n",
    "\n",
    "# (2) there are aslo some rows which are zeros\n",
    "# print out how many \n",
    "\n",
    "\n",
    "\n",
    "# (3) Also find and print how many donations which are positive \n",
    "\n",
    "\n"
   ]
  },
  {
   "cell_type": "code",
   "execution_count": 16,
   "metadata": {
    "ExecuteTime": {
     "end_time": "2021-12-06T20:01:07.655894Z",
     "start_time": "2021-12-06T20:01:07.293538Z"
    }
   },
   "outputs": [
    {
     "data": {
      "image/png": "[encoded data removed]",
      "text/plain": [
       "<Figure size 432x288 with 1 Axes>"
      ]
     },
     "metadata": {
      "needs_background": "light"
     },
     "output_type": "display_data"
    }
   ],
   "source": [
    "# For col \"contb_receipt_amt\": plot histgram (use only positive donations)\n",
    "\n",
    "\n",
    "\n",
    "\n"
   ]
  },
  {
   "cell_type": "code",
   "execution_count": 51,
   "metadata": {
    "ExecuteTime": {
     "end_time": "2021-12-06T20:05:52.357269Z",
     "start_time": "2021-12-06T20:05:52.353282Z"
    }
   },
   "outputs": [],
   "source": [
    "# The graph above looks not good because some donations are big numbers. \n",
    "\n",
    "# How many donations are higher than $10K? \n",
    "\n",
    "\n",
    "\n"
   ]
  },
  {
   "cell_type": "code",
   "execution_count": 18,
   "metadata": {
    "ExecuteTime": {
     "end_time": "2021-12-06T20:01:14.192835Z",
     "start_time": "2021-12-06T20:01:13.911882Z"
    }
   },
   "outputs": [
    {
     "data": {
      "image/png": "[encoded data removed]",
      "text/plain": [
       "<Figure size 432x288 with 1 Axes>"
      ]
     },
     "metadata": {
      "needs_background": "light"
     },
     "output_type": "display_data"
    }
   ],
   "source": [
    "# Plot again the histgram of \"contb_receipt_amt\": value in the range of larger than $0 but less than or equal to $1000  \n",
    "\n",
    "\n",
    "\n",
    "\n",
    "\n",
    "\n"
   ]
  },
  {
   "cell_type": "markdown",
   "metadata": {},
   "source": [
    "---\n"
   ]
  },
  {
   "cell_type": "markdown",
   "metadata": {},
   "source": [
    "## (3) df2: Group by candidates and values sorting<span class=\"mark\">(10%)</span>"
   ]
  },
  {
   "cell_type": "code",
   "execution_count": 52,
   "metadata": {
    "ExecuteTime": {
     "end_time": "2021-12-06T20:06:15.932045Z",
     "start_time": "2021-12-06T20:06:15.926026Z"
    }
   },
   "outputs": [],
   "source": [
    "# (1) Start from df1, select only \"cand_nm\",\"contbr_nm\", \"contb_receipt_amt\" columns, then name them as df2\n",
    "\n",
    "\n",
    "\n",
    "# Then display df2.head()\n",
    " \n",
    "\n",
    "\n"
   ]
  },
  {
   "cell_type": "code",
   "execution_count": null,
   "metadata": {},
   "outputs": [],
   "source": [
    "# (2) Find and display the df2's top 15 records in \"contb_receipt_amt\"\n",
    "\n",
    "\n",
    "\n"
   ]
  },
  {
   "cell_type": "code",
   "execution_count": 53,
   "metadata": {
    "ExecuteTime": {
     "end_time": "2021-12-06T20:06:33.534584Z",
     "start_time": "2021-12-06T20:06:33.528599Z"
    }
   },
   "outputs": [],
   "source": [
    "# (3) find out the total \"contb_receipt_amounts\" of each candidate received, \n",
    "# then display the total amounts in descending order with candiate names  \n",
    "\n",
    "\n",
    "\n"
   ]
  },
  {
   "cell_type": "code",
   "execution_count": 21,
   "metadata": {
    "ExecuteTime": {
     "end_time": "2021-12-06T20:01:29.328349Z",
     "start_time": "2021-12-06T20:01:29.085550Z"
    }
   },
   "outputs": [
    {
     "data": {
      "image/png": "[encoded data removed]",
      "text/plain": [
       "<Figure size 432x288 with 1 Axes>"
      ]
     },
     "metadata": {
      "needs_background": "light"
     },
     "output_type": "display_data"
    }
   ],
   "source": [
    "# (4) Plot bar chart for the total amounts for all candidates in descending order\n",
    "\n",
    "\n",
    "\n",
    "\n"
   ]
  },
  {
   "cell_type": "markdown",
   "metadata": {},
   "source": [
    "## (4) df3, df4, df5: Group by states and values sorting<span class=\"mark\">(15%)</span>"
   ]
  },
  {
   "cell_type": "code",
   "execution_count": 54,
   "metadata": {
    "ExecuteTime": {
     "end_time": "2021-12-06T20:07:25.072538Z",
     "start_time": "2021-12-06T20:07:25.061526Z"
    }
   },
   "outputs": [],
   "source": [
    "# From df1:  find total amount of \"contb_receipt_amt\" for each state, then then name it as df3\n",
    "\n",
    "\n",
    "\n",
    "# display df3\n",
    "\n"
   ]
  },
  {
   "cell_type": "code",
   "execution_count": 56,
   "metadata": {
    "ExecuteTime": {
     "end_time": "2021-12-06T20:07:59.820527Z",
     "start_time": "2021-12-06T20:07:59.806567Z"
    }
   },
   "outputs": [],
   "source": [
    "##  CODE GIVEN ##\n",
    "\n",
    "# df3 above shows that there are 74 contribution states (some are not among the US 50 states pluse DC.)\n",
    "\n",
    "# we read in US code_2 (file name: states_code2.csv) first, then merge two dfs to get 5:\n",
    "df_code2 = pd.read_csv(\"states_code2.csv\", usecols=[1, 2], index_col = 1) \n",
    "df_code2.index.name=\"contbr_st\"\n",
    "\n",
    "\n",
    "print(\"All US states:\", len(df_code2))\n",
    "df_code2.head()\n",
    "\n"
   ]
  },
  {
   "cell_type": "code",
   "execution_count": null,
   "metadata": {},
   "outputs": [],
   "source": [
    "# Please use df_code2 and df3 to create a dataframe df4 which holds only 51 US states' contributions (use join or merge) \n",
    "\n",
    "\n",
    "\n",
    "# diplay df4\n",
    "\n",
    "\n",
    "\n",
    "# df4.shape \n",
    "\n",
    "\n"
   ]
  },
  {
   "cell_type": "code",
   "execution_count": 26,
   "metadata": {
    "ExecuteTime": {
     "end_time": "2021-12-06T20:02:33.027310Z",
     "start_time": "2021-12-06T20:02:32.803815Z"
    }
   },
   "outputs": [
    {
     "data": {
      "image/png": "[encoded data removed]",
      "text/plain": [
       "<Figure size 432x288 with 1 Axes>"
      ]
     },
     "metadata": {
      "needs_background": "light"
     },
     "output_type": "display_data"
    }
   ],
   "source": [
    "# plot the top 10 US states in \"contb_receipt_amt\"\n",
    "\n",
    "\n",
    "\n"
   ]
  },
  {
   "cell_type": "code",
   "execution_count": 27,
   "metadata": {
    "ExecuteTime": {
     "end_time": "2021-12-06T20:02:36.573843Z",
     "start_time": "2021-12-06T20:02:36.555858Z"
    }
   },
   "outputs": [
    {
     "data": {
      "text/plain": [
       "contbr_st\n",
       "AA     51066.20\n",
       "AB      2048.00\n",
       "AE    118010.08\n",
       "AF       495.00\n",
       "AP     79857.48\n",
       "AS      2955.00\n",
       "BR      -500.00\n",
       "FF    109125.00\n",
       "FM       600.00\n",
       "GU     22583.09\n",
       "MP      5355.00\n",
       "NS      1000.00\n",
       "ON      -545.00\n",
       "PE        30.00\n",
       "PR    330646.40\n",
       "QU       500.00\n",
       "SO       250.00\n",
       "TE       265.00\n",
       "UK         0.00\n",
       "VI     89304.33\n",
       "WE       123.10\n",
       "XX    448397.00\n",
       "ZZ     35408.22\n",
       "Name: contb_receipt_amt, dtype: float64"
      ]
     },
     "execution_count": 27,
     "metadata": {},
     "output_type": "execute_result"
    }
   ],
   "source": [
    "# (optional) find all other states which are not in the 51 states.\n",
    "\n",
    "\n",
    "# print  them out\n",
    "\n"
   ]
  },
  {
   "cell_type": "markdown",
   "metadata": {},
   "source": [
    "---"
   ]
  },
  {
   "cell_type": "markdown",
   "metadata": {},
   "source": [
    "## (5)  Boolean indexing  (conditional selection)<span class=\"mark\">(20%)</span>"
   ]
  },
  {
   "cell_type": "code",
   "execution_count": 57,
   "metadata": {
    "ExecuteTime": {
     "end_time": "2021-12-06T20:09:16.958200Z",
     "start_time": "2021-12-06T20:09:16.954235Z"
    }
   },
   "outputs": [],
   "source": [
    "# Obama's dataset: still start from df1\n",
    "# keek only those rows in which the \"cand_nm\"  is \"Obama, Barack\" \n",
    "# print out how many rows\n",
    "\n",
    "\n",
    "\n"
   ]
  },
  {
   "cell_type": "code",
   "execution_count": 1,
   "metadata": {
    "ExecuteTime": {
     "end_time": "2021-12-06T21:50:28.262117Z",
     "start_time": "2021-12-06T21:50:28.255108Z"
    }
   },
   "outputs": [],
   "source": [
    "# The amount of total contributions to him ($ amount)\n",
    "\n",
    "\n",
    "\n",
    "\n",
    "\n",
    "\n"
   ]
  },
  {
   "cell_type": "code",
   "execution_count": 58,
   "metadata": {
    "ExecuteTime": {
     "end_time": "2021-12-06T20:09:55.327255Z",
     "start_time": "2021-12-06T20:09:55.314290Z"
    }
   },
   "outputs": [],
   "source": [
    "# For \"Obama, Barack\"\" again: SMALL DONATION is defined as amount in between 0 and 200:\n",
    "\n",
    "\n",
    "\n",
    "# find out the number of small donations: each donation has dollar amount larger than 0  but less than 200. \n",
    "\n",
    "\n",
    "\n",
    "# The number of donations (number of rows)\n",
    "\n",
    "\n",
    "\n",
    "# The total amount within this range (0, 200)\n",
    "\n",
    "\n"
   ]
  },
  {
   "cell_type": "code",
   "execution_count": 59,
   "metadata": {
    "ExecuteTime": {
     "end_time": "2021-12-06T20:10:03.870408Z",
     "start_time": "2021-12-06T20:10:03.862428Z"
    }
   },
   "outputs": [],
   "source": [
    "# Calculate the percentages: \n",
    "\n",
    "# (1) the number of small amount donations to the total number of donations\n",
    "\n",
    "\n",
    "\n",
    "# (2) the amount of small donations to total amount of donations\n",
    "\n",
    "\n"
   ]
  },
  {
   "cell_type": "markdown",
   "metadata": {},
   "source": [
    "---\n",
    "### Now for \"Romney\": DO THE SAME"
   ]
  },
  {
   "cell_type": "code",
   "execution_count": 61,
   "metadata": {
    "ExecuteTime": {
     "end_time": "2021-12-06T20:11:50.467701Z",
     "start_time": "2021-12-06T20:11:50.448753Z"
    }
   },
   "outputs": [],
   "source": [
    "# For \"Romney, Mitt\": do the same\n",
    "\n",
    "\n",
    "#Total number of all donations\n",
    "\n",
    "\n",
    "# Total amount of all donations\n",
    "\n",
    "\n",
    "# For small donations,  \n",
    "\n",
    "\n",
    "# how many rows\n",
    "\n",
    "\n",
    "# total small amounts\n",
    "\n",
    "\n",
    "# cal the percentage: the number of small donation to the total number of donations\n",
    "\n",
    "\n",
    "# cal the percentage:  total small amount to total amount\n",
    "\n",
    "\n",
    "\n"
   ]
  },
  {
   "cell_type": "markdown",
   "metadata": {},
   "source": [
    "## (5) Zip code <span class=\"mark\">(10%)</span>"
   ]
  },
  {
   "cell_type": "code",
   "execution_count": 33,
   "metadata": {
    "ExecuteTime": {
     "end_time": "2021-12-06T20:03:12.959098Z",
     "start_time": "2021-12-06T20:03:12.902258Z"
    }
   },
   "outputs": [
    {
     "data": {
      "text/plain": [
       "'V6K2Z3'"
      ]
     },
     "execution_count": 33,
     "metadata": {},
     "output_type": "execute_result"
    }
   ],
   "source": [
    "# First, check the contbr_zip column of df1 using new name df_zip\n",
    "df_zip = df1.contbr_zip \n",
    "\n",
    "df_zip.dtypes  # which contains mixed type data\n",
    "\n",
    "\n",
    "# - some are int type,  float type,  or obj type (string), \n",
    "# - some are 5-digit,  or 5-digit + 4-digit, or shorter, even missing\n",
    "\n",
    "# - For your reference: let us check some of them\n",
    "df_zip.isna().sum()          # check missing values: 111 total\n",
    "\n",
    "df_zip[0]                    # check the type of the first example: float\n",
    "\n",
    "df_zip[100000]               # check the type last example: string\n",
    "\n",
    "df_zip[126538]               # V6K2Z3', some zip_codes from Canada or other countries. \n",
    " \n"
   ]
  },
  {
   "cell_type": "markdown",
   "metadata": {},
   "source": [
    "## You need to do the following data processing using df_zip :\n",
    "  - Keep only 5-digit zip codes:   \n",
    "      - if zip length is 5 long and all are digits, zip has no change.\n",
    "      - if zip is missing, assign it \"99999\"\n",
    "      - if zip length is less than 5, assign it as \"99999\"\n",
    "      - if the length is longer than 5, keep only the first 5 digits.\n",
    "          but they must be digits, otherwise assign \"99999\",   \n",
    "      \n",
    "    \n",
    "   - display the total number of rows, the first 10 zip_codes and last 10 zip_codes after conversion\n",
    "\n",
    "  \n",
    "---\n",
    "Hints:  \n",
    " - work only on the  df_zip \n",
    " - use dataframe or series \n",
    " - need to define function \n",
    "     - map this function to your data series, or applymap it to dataframe\n",
    " - if you use a loop, it will be very slow. "
   ]
  },
  {
   "cell_type": "code",
   "execution_count": 60,
   "metadata": {
    "ExecuteTime": {
     "end_time": "2021-12-06T20:11:28.937228Z",
     "start_time": "2021-12-06T20:11:28.923266Z"
    }
   },
   "outputs": [],
   "source": [
    "# your code here \n",
    "\n",
    "\n",
    "\n",
    "\n",
    "\n",
    "\n",
    "\n",
    "\n"
   ]
  },
  {
   "cell_type": "markdown",
   "metadata": {},
   "source": [
    "# THIS THE SAMPLE OUTPUT\n",
    "\n",
    "    Total Number of Rows: 1001731\n",
    "    The first 10 rows:\n",
    "    0    36601\n",
    "    1    36601\n",
    "    2    36863\n",
    "    3    72454\n",
    "    4    71901\n",
    "    5    72764\n",
    "    6    72454\n",
    "    7    72454\n",
    "    8    85210\n",
    "    9    85749\n",
    "    Name: contbr_zip, dtype: object\n",
    "    The last 10 rows:\n",
    "    1001721    82001\n",
    "    1001722    82435\n",
    "    1001723    82435\n",
    "    1001724    99999\n",
    "    1001725    99999\n",
    "    1001726    99999\n",
    "    1001727    99999\n",
    "    1001728    99999\n",
    "    1001729    99999\n",
    "    1001730    99999\n",
    "    Name: contbr_zip, dtype: object"
   ]
  },
  {
   "cell_type": "code",
   "execution_count": null,
   "metadata": {},
   "outputs": [],
   "source": [
    "#END"
   ]
  }
 ],
 "metadata": {
  "kernelspec": {
   "display_name": "Python 3 (ipykernel)",
   "language": "python",
   "name": "python3"
  },
  "language_info": {
   "codemirror_mode": {
    "name": "ipython",
    "version": 3
   },
   "file_extension": ".py",
   "mimetype": "text/x-python",
   "name": "python",
   "nbconvert_exporter": "python",
   "pygments_lexer": "ipython3",
   "version": "3.9.7"
  },
  "toc": {
   "base_numbering": 1,
   "nav_menu": {},
   "number_sections": true,
   "sideBar": true,
   "skip_h1_title": false,
   "title_cell": "Table of Contents",
   "title_sidebar": "Contents",
   "toc_cell": false,
   "toc_position": {},
   "toc_section_display": true,
   "toc_window_display": false
  },
  "varInspector": {
   "cols": {
    "lenName": 16,
    "lenType": 16,
    "lenVar": 40
   },
   "kernels_config": {
    "python": {
     "delete_cmd_postfix": "",
     "delete_cmd_prefix": "del ",
     "library": "var_list.py",
     "varRefreshCmd": "print(var_dic_list())"
    },
    "r": {
     "delete_cmd_postfix": ") ",
     "delete_cmd_prefix": "rm(",
     "library": "var_list.r",
     "varRefreshCmd": "cat(var_dic_list()) "
    }
   },
   "types_to_exclude": [
    "module",
    "function",
    "builtin_function_or_method",
    "instance",
    "_Feature"
   ],
   "window_display": false
  }
 },
 "nbformat": 4,
 "nbformat_minor": 2
}
